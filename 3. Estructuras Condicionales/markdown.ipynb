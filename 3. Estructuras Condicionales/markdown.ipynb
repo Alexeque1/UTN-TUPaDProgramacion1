{
 "cells": [
  {
   "cell_type": "markdown",
   "id": "878ef9d1",
   "metadata": {},
   "source": [
    "# 🧩 1. Condicional anidada\n"
   ]
  },
  {
   "cell_type": "code",
   "execution_count": null,
   "id": "53bbeec8",
   "metadata": {},
   "outputs": [],
   "source": [
    "nota = int(input(\"Por favor, ingrese una nota\"))\n",
    "\n",
    "if nota >= 6:\n",
    "    if nota >= 6 or nota <=7:\n",
    "        print(\"Nota buena\")\n",
    "    elif nota > 7 or nota <= 8:\n",
    "        print(\"Nota muy buena\")\n",
    "    else:\n",
    "        print(\"Nota excelente\")\n",
    "else:\n",
    "    if nota >= 3 or nota < 6:\n",
    "        print(\"Nota normal\")\n",
    "    else:\n",
    "        print(\"Nota muy mala\")"
   ]
  }
 ],
 "metadata": {
  "kernelspec": {
   "display_name": "Python 3",
   "language": "python",
   "name": "python3"
  },
  "language_info": {
   "codemirror_mode": {
    "name": "ipython",
    "version": 3
   },
   "file_extension": ".py",
   "mimetype": "text/x-python",
   "name": "python",
   "nbconvert_exporter": "python",
   "pygments_lexer": "ipython3",
   "version": "3.13.5"
  }
 },
 "nbformat": 4,
 "nbformat_minor": 5
}
